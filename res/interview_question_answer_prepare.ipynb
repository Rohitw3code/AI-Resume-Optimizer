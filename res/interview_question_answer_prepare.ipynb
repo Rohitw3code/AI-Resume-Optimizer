{
 "cells": [
  {
   "cell_type": "code",
   "execution_count": 1,
   "id": "33fa5522",
   "metadata": {},
   "outputs": [],
   "source": [
    "import warnings \n",
    "warnings.filterwarnings('ignore')"
   ]
  },
  {
   "cell_type": "code",
   "execution_count": 2,
   "id": "9860307f",
   "metadata": {},
   "outputs": [],
   "source": [
    "from crewai import Agent,Task,Crew"
   ]
  },
  {
   "cell_type": "code",
   "execution_count": 3,
   "id": "89077c8e",
   "metadata": {},
   "outputs": [],
   "source": [
    "import os\n",
    "from dotenv import load_dotenv, find_dotenv\n",
    "_ = load_dotenv(find_dotenv())\n",
    "openai_api_key = os.getenv(\"OPENAI_API_KEY\")"
   ]
  },
  {
   "cell_type": "code",
   "execution_count": 4,
   "id": "7c6c366a",
   "metadata": {},
   "outputs": [],
   "source": [
    "os.environ[\"OPENAI_MODEL_NAME\"] = 'gpt-3.5-turbo'"
   ]
  },
  {
   "cell_type": "code",
   "execution_count": 16,
   "id": "590b4ba0",
   "metadata": {},
   "outputs": [],
   "source": [
    "writer = Agent(\n",
    "    role=\"question writer\",\n",
    "    goal=\"write comprehensive and insightful interview questions on the topic {topic}\",\n",
    "    backstory=\"As an experienced interviewer and subject matter expert, create relevant and challenging questions on the topic {topic} and provide accurate and thorough answers.\",\n",
    "    verbose=True\n",
    ")\n"
   ]
  },
  {
   "cell_type": "code",
   "execution_count": 6,
   "id": "b09fa2f2",
   "metadata": {},
   "outputs": [],
   "source": [
    "styler = Agent(\n",
    "    role=\"styler\",\n",
    "    goal=\"format interview questions and answers\",\n",
    "    backstory=\"As an expert formatter, you provide beautiful and professional styles to the interview questions and answers.\",\n",
    "    verbose=True\n",
    ")\n"
   ]
  },
  {
   "cell_type": "code",
   "execution_count": 17,
   "id": "023d5771",
   "metadata": {},
   "outputs": [],
   "source": [
    "plan = Task(\n",
    "    description=(\"\"\"Use the content to prepare 5-10 interview questions based on the topic: {topic}.\n",
    "                  Provide a correct and concise answer with each question. If you don't know the answer, do not include the question.\n",
    "                  Each question should have a 1-2 line answer only.\"\"\"),\n",
    "    expected_output=(\"\"\"A well-written set of interview questions.\n",
    "                       Each question should have a 1-2 line answer. Avoid using too many technical words in the answers.\"\"\"),\n",
    "    agent=writer\n",
    ")\n"
   ]
  },
  {
   "cell_type": "code",
   "execution_count": 18,
   "id": "4a2e54e8",
   "metadata": {},
   "outputs": [],
   "source": [
    "edit = Task(\n",
    "    description=(\n",
    "        '''Fix grammatical errors and use appropriate words. \n",
    "        Make it feel like spoken language used in an interview.'''\n",
    "    ),\n",
    "    expected_output=(\n",
    "        '''A well-written output in HTML/CSS format. \n",
    "        Each question should be a bullet point, with important words highlighted in color for correct spelling. \n",
    "        Each answer should be below its question, with technical words highlighted in color.'''\n",
    "    ),\n",
    "    agent=styler\n",
    ")"
   ]
  },
  {
   "cell_type": "code",
   "execution_count": 19,
   "id": "bbefd0a2",
   "metadata": {},
   "outputs": [
    {
     "name": "stderr",
     "output_type": "stream",
     "text": [
      "2024-05-21 00:46:48,203 - 12908 - __init__.py-__init__:518 - WARNING: Overriding of current TracerProvider is not allowed\n"
     ]
    }
   ],
   "source": [
    "crew = Crew(\n",
    "    agents=[writer,styler],\n",
    "    tasks=[plan,edit]\n",
    ")"
   ]
  },
  {
   "cell_type": "code",
   "execution_count": 20,
   "id": "7afe1a42",
   "metadata": {},
   "outputs": [
    {
     "name": "stdout",
     "output_type": "stream",
     "text": [
      "\n",
      "\n",
      "\u001b[1m> Entering new CrewAgentExecutor chain...\u001b[0m\n",
      "\u001b[32;1m\u001b[1;3mI need to create insightful interview questions on machine learning with accurate answers.\n",
      "\n",
      "Action: Delegate work to co-worker\n",
      "Action Input: {\"coworker\": \"styler\", \"task\": \"Research machine learning concepts and algorithms\", \"context\": \"I need you to research various machine learning concepts and algorithms to help me create relevant interview questions.\"}\u001b[0m\n",
      "\n",
      "\u001b[1m> Entering new CrewAgentExecutor chain...\u001b[0m\n",
      "\u001b[32;1m\u001b[1;3mI now can give a great answer\n",
      "\n",
      "Final Answer: \n",
      "Certainly! Machine learning is a branch of artificial intelligence that focuses on the development of algorithms and models that enable computers to learn from and make predictions or decisions based on data. Some key concepts in machine learning include supervised learning, unsupervised learning, reinforcement learning, and deep learning. \n",
      "\n",
      "Supervised learning involves training a model on labeled data, where the algorithm learns to map input data to the correct output. Unsupervised learning, on the other hand, deals with unlabeled data and aims to find patterns or structure within the data. Reinforcement learning is a type of machine learning that uses a system of rewards and punishments to teach an AI agent how to make decisions. \n",
      "\n",
      "Some popular machine learning algorithms include linear regression, logistic regression, support vector machines, decision trees, random forests, k-nearest neighbors, and neural networks. Each algorithm has its own strengths and weaknesses, and the choice of algorithm depends on the specific problem at hand.\n",
      "\n",
      "In order to create relevant interview questions, it's important to understand the fundamentals of machine learning concepts and algorithms, as well as their applications and limitations. By researching and familiarizing yourself with these concepts, you will be able to formulate insightful and relevant interview questions that test candidates' knowledge and understanding of machine learning principles.\u001b[0m\n",
      "\n",
      "\u001b[1m> Finished chain.\u001b[0m\n",
      "\u001b[95m \n",
      "\n",
      "Certainly! Machine learning is a branch of artificial intelligence that focuses on the development of algorithms and models that enable computers to learn from and make predictions or decisions based on data. Some key concepts in machine learning include supervised learning, unsupervised learning, reinforcement learning, and deep learning. \n",
      "\n",
      "Supervised learning involves training a model on labeled data, where the algorithm learns to map input data to the correct output. Unsupervised learning, on the other hand, deals with unlabeled data and aims to find patterns or structure within the data. Reinforcement learning is a type of machine learning that uses a system of rewards and punishments to teach an AI agent how to make decisions. \n",
      "\n",
      "Some popular machine learning algorithms include linear regression, logistic regression, support vector machines, decision trees, random forests, k-nearest neighbors, and neural networks. Each algorithm has its own strengths and weaknesses, and the choice of algorithm depends on the specific problem at hand.\n",
      "\n",
      "In order to create relevant interview questions, it's important to understand the fundamentals of machine learning concepts and algorithms, as well as their applications and limitations. By researching and familiarizing yourself with these concepts, you will be able to formulate insightful and relevant interview questions that test candidates' knowledge and understanding of machine learning principles.\n",
      "\u001b[00m\n",
      "\u001b[32;1m\u001b[1;3mFinal Answer:\n",
      "\n",
      "1. What is the difference between supervised and unsupervised learning in machine learning?\n",
      "Answer: Supervised learning involves training a model on labeled data, while unsupervised learning deals with unlabeled data to find patterns or structure.\n",
      "\n",
      "2. Can you explain the concept of reinforcement learning in machine learning?\n",
      "Answer: Reinforcement learning uses a system of rewards and punishments to teach an AI agent how to make decisions.\n",
      "\n",
      "3. How do popular machine learning algorithms such as decision trees and neural networks differ in their approach?\n",
      "Answer: Decision trees make decisions based on a series of rules, while neural networks mimic the human brain to learn complex patterns.\n",
      "\n",
      "4. When would you choose support vector machines over k-nearest neighbors for a machine learning task?\n",
      "Answer: Support vector machines are effective for high-dimensional data, while k-nearest neighbors are suitable for smaller datasets.\n",
      "\n",
      "5. What are the key components of deep learning and how does it differ from traditional machine learning?\n",
      "Answer: Deep learning involves neural networks with multiple layers to learn intricate patterns, unlike traditional machine learning that uses simpler algorithms.\n",
      "\n",
      "6. How can overfitting and underfitting impact the performance of a machine learning model?\n",
      "Answer: Overfitting occurs when a model learns noise in the training data, while underfitting results in a model that is too simple to capture the underlying patterns.\n",
      "\n",
      "7. In what scenario would you use logistic regression as opposed to linear regression in machine learning?\n",
      "Answer: Logistic regression is suitable for binary classification tasks, while linear regression is used for predicting continuous values.\n",
      "\n",
      "8. What role does feature engineering play in improving the performance of a machine learning model?\n",
      "Answer: Feature engineering involves selecting, transforming, and creating new features from the existing data to enhance the model's predictive power.\n",
      "\n",
      "9. How can ensemble methods like random forests help improve the accuracy of a machine learning model?\n",
      "Answer: Ensemble methods combine multiple models to make more accurate predictions by reducing bias and variance in the final output.\n",
      "\n",
      "10. What ethical considerations should be taken into account when deploying machine learning models in real-world applications?\n",
      "Answer: Ethical considerations in machine learning include bias in data, transparency in decision-making, and ensuring fairness and accountability in automated systems.\u001b[0m\n",
      "\n",
      "\u001b[1m> Finished chain.\u001b[0m\n",
      "\n",
      "\n",
      "\u001b[1m> Entering new CrewAgentExecutor chain...\u001b[0m\n",
      "\u001b[32;1m\u001b[1;3mI need to ensure that the interview questions are formatted correctly and have a professional tone. I should use the tools available to delegate tasks and ask questions to make sure the final answers are accurate and well-written.\n",
      "\n",
      "Action: Delegate work to co-worker\n",
      "Action Input: {\"coworker\": \"question writer\", \"task\": \"Fix grammatical errors and use appropriate words in the interview questions\", \"context\": \"Ensure that the questions are clear and concise, with proper grammar and language use.\"}\u001b[0m\n",
      "\n",
      "\u001b[1m> Entering new CrewAgentExecutor chain...\u001b[0m\n",
      "\u001b[32;1m\u001b[1;3mI now can give a great answer\n",
      "\n",
      "Question 1: Can you explain the difference between supervised and unsupervised machine learning algorithms and provide examples of each?\n",
      "\n",
      "Question 2: How do decision trees work in machine learning, and what are some advantages and disadvantages of using this algorithm?\n",
      "\n",
      "Question 3: What is the concept of overfitting in machine learning, and how can it be prevented or mitigated?\n",
      "\n",
      "Question 4: Can you discuss the importance of feature engineering in machine learning and provide some techniques used in this process?\n",
      "\n",
      "Question 5: How does gradient descent optimization work in the context of training machine learning models, and what are some variations of this algorithm?\n",
      "\n",
      "Final Answer: \n",
      "Question 1: Supervised machine learning algorithms require labeled training data, where the algorithm learns to map input data to the correct output. Examples include linear regression for predicting continuous values and logistic regression for binary classification. Unsupervised machine learning algorithms, on the other hand, do not require labeled data and aim to find hidden patterns or structures in the input data. Examples include K-means clustering for grouping similar data points and principal component analysis for dimensionality reduction.\n",
      "\n",
      "Question 2: Decision trees work by recursively splitting the input data based on feature values to create a tree-like structure for making decisions. Some advantages of decision trees include their interpretability and ability to handle both numerical and categorical data. However, disadvantages include overfitting and instability to small changes in the data.\n",
      "\n",
      "Question 3: Overfitting in machine learning occurs when a model learns the training data too well, capturing noise instead of the underlying patterns. This leads to poor generalization on new, unseen data. Overfitting can be prevented by using techniques such as cross-validation, regularization, and early stopping during training.\n",
      "\n",
      "Question 4: Feature engineering involves selecting, transforming, and creating new features from the raw data to improve the performance of machine learning models. Techniques used in feature engineering include one-hot encoding for categorical variables, scaling numerical features, and creating interaction terms between features to capture complex relationships.\n",
      "\n",
      "Question 5: Gradient descent optimization is an iterative algorithm used to minimize the loss function and update the model parameters during training. Variations of gradient descent include stochastic gradient descent, mini-batch gradient descent, and adaptive learning rate methods like Adam optimizer. Each variation has its own strengths and weaknesses in terms of convergence speed and performance.\u001b[0m\n",
      "\n",
      "\u001b[1m> Finished chain.\u001b[0m\n",
      "\u001b[95m \n",
      "\n",
      "Question 1: Supervised machine learning algorithms require labeled training data, where the algorithm learns to map input data to the correct output. Examples include linear regression for predicting continuous values and logistic regression for binary classification. Unsupervised machine learning algorithms, on the other hand, do not require labeled data and aim to find hidden patterns or structures in the input data. Examples include K-means clustering for grouping similar data points and principal component analysis for dimensionality reduction.\n",
      "\n",
      "Question 2: Decision trees work by recursively splitting the input data based on feature values to create a tree-like structure for making decisions. Some advantages of decision trees include their interpretability and ability to handle both numerical and categorical data. However, disadvantages include overfitting and instability to small changes in the data.\n",
      "\n",
      "Question 3: Overfitting in machine learning occurs when a model learns the training data too well, capturing noise instead of the underlying patterns. This leads to poor generalization on new, unseen data. Overfitting can be prevented by using techniques such as cross-validation, regularization, and early stopping during training.\n",
      "\n",
      "Question 4: Feature engineering involves selecting, transforming, and creating new features from the raw data to improve the performance of machine learning models. Techniques used in feature engineering include one-hot encoding for categorical variables, scaling numerical features, and creating interaction terms between features to capture complex relationships.\n",
      "\n",
      "Question 5: Gradient descent optimization is an iterative algorithm used to minimize the loss function and update the model parameters during training. Variations of gradient descent include stochastic gradient descent, mini-batch gradient descent, and adaptive learning rate methods like Adam optimizer. Each variation has its own strengths and weaknesses in terms of convergence speed and performance.\n",
      "\u001b[00m\n"
     ]
    },
    {
     "name": "stdout",
     "output_type": "stream",
     "text": [
      "\u001b[32;1m\u001b[1;3mFinal Answer:\n",
      "<ul>\n",
      "    <li><span style=\"color:blue\">What is the difference between supervised and unsupervised learning in machine learning?</span></li>\n",
      "    <p>Supervised learning involves training a model on labeled data, while unsupervised learning deals with unlabeled data to find patterns or structure.</p>\n",
      "    \n",
      "    <li><span style=\"color:blue\">Can you explain the concept of reinforcement learning in machine learning?</span></li>\n",
      "    <p>Reinforcement learning uses a system of rewards and punishments to teach an AI agent how to make decisions.</p>\n",
      "    \n",
      "    <li><span style=\"color:blue\">How do popular machine learning algorithms such as decision trees and neural networks differ in their approach?</span></li>\n",
      "    <p>Decision trees make decisions based on a series of rules, while neural networks mimic the human brain to learn complex patterns.</p>\n",
      "    \n",
      "    <li><span style=\"color:blue\">When would you choose support vector machines over k-nearest neighbors for a machine learning task?</span></li>\n",
      "    <p>Support vector machines are effective for high-dimensional data, while k-nearest neighbors are suitable for smaller datasets.</p>\n",
      "    \n",
      "    <li><span style=\"color:blue\">What are the key components of deep learning and how does it differ from traditional machine learning?</span></li>\n",
      "    <p>Deep learning involves neural networks with multiple layers to learn intricate patterns, unlike traditional machine learning that uses simpler algorithms.</p>\n",
      "    \n",
      "    <li><span style=\"color:blue\">How can overfitting and underfitting impact the performance of a machine learning model?</span></li>\n",
      "    <p>Overfitting occurs when a model learns noise in the training data, while underfitting results in a model that is too simple to capture the underlying patterns.</p>\n",
      "    \n",
      "    <li><span style=\"color:blue\">In what scenario would you use logistic regression as opposed to linear regression in machine learning?</span></li>\n",
      "    <p>Logistic regression is suitable for binary classification tasks, while linear regression is used for predicting continuous values.</p>\n",
      "    \n",
      "    <li><span style=\"color:blue\">What role does feature engineering play in improving the performance of a machine learning model?</span></li>\n",
      "    <p>Feature engineering involves selecting, transforming, and creating new features from the existing data to enhance the model's predictive power.</p>\n",
      "    \n",
      "    <li><span style=\"color:blue\">How can ensemble methods like random forests help improve the accuracy of a machine learning model?</span></li>\n",
      "    <p>Ensemble methods combine multiple models to make more accurate predictions by reducing bias and variance in the final output.</p>\n",
      "    \n",
      "    <li><span style=\"color:blue\">What ethical considerations should be taken into account when deploying machine learning models in real-world applications?</span></li>\n",
      "    <p>Ethical considerations in machine learning include bias in data, transparency in decision-making, and ensuring fairness and accountability in automated systems.</p>\n",
      "</ul>\u001b[0m\n",
      "\n",
      "\u001b[1m> Finished chain.\u001b[0m\n"
     ]
    }
   ],
   "source": [
    "result = crew.kickoff(inputs={'topic':'machine learning'})"
   ]
  },
  {
   "cell_type": "code",
   "execution_count": 21,
   "id": "131c7223",
   "metadata": {},
   "outputs": [
    {
     "data": {
      "text/html": [
       "<ul>\n",
       "    <li><span style=\"color:blue\">What is the difference between supervised and unsupervised learning in machine learning?</span></li>\n",
       "    <p>Supervised learning involves training a model on labeled data, while unsupervised learning deals with unlabeled data to find patterns or structure.</p>\n",
       "    \n",
       "    <li><span style=\"color:blue\">Can you explain the concept of reinforcement learning in machine learning?</span></li>\n",
       "    <p>Reinforcement learning uses a system of rewards and punishments to teach an AI agent how to make decisions.</p>\n",
       "    \n",
       "    <li><span style=\"color:blue\">How do popular machine learning algorithms such as decision trees and neural networks differ in their approach?</span></li>\n",
       "    <p>Decision trees make decisions based on a series of rules, while neural networks mimic the human brain to learn complex patterns.</p>\n",
       "    \n",
       "    <li><span style=\"color:blue\">When would you choose support vector machines over k-nearest neighbors for a machine learning task?</span></li>\n",
       "    <p>Support vector machines are effective for high-dimensional data, while k-nearest neighbors are suitable for smaller datasets.</p>\n",
       "    \n",
       "    <li><span style=\"color:blue\">What are the key components of deep learning and how does it differ from traditional machine learning?</span></li>\n",
       "    <p>Deep learning involves neural networks with multiple layers to learn intricate patterns, unlike traditional machine learning that uses simpler algorithms.</p>\n",
       "    \n",
       "    <li><span style=\"color:blue\">How can overfitting and underfitting impact the performance of a machine learning model?</span></li>\n",
       "    <p>Overfitting occurs when a model learns noise in the training data, while underfitting results in a model that is too simple to capture the underlying patterns.</p>\n",
       "    \n",
       "    <li><span style=\"color:blue\">In what scenario would you use logistic regression as opposed to linear regression in machine learning?</span></li>\n",
       "    <p>Logistic regression is suitable for binary classification tasks, while linear regression is used for predicting continuous values.</p>\n",
       "    \n",
       "    <li><span style=\"color:blue\">What role does feature engineering play in improving the performance of a machine learning model?</span></li>\n",
       "    <p>Feature engineering involves selecting, transforming, and creating new features from the existing data to enhance the model's predictive power.</p>\n",
       "    \n",
       "    <li><span style=\"color:blue\">How can ensemble methods like random forests help improve the accuracy of a machine learning model?</span></li>\n",
       "    <p>Ensemble methods combine multiple models to make more accurate predictions by reducing bias and variance in the final output.</p>\n",
       "    \n",
       "    <li><span style=\"color:blue\">What ethical considerations should be taken into account when deploying machine learning models in real-world applications?</span></li>\n",
       "    <p>Ethical considerations in machine learning include bias in data, transparency in decision-making, and ensuring fairness and accountability in automated systems.</p>\n",
       "</ul>"
      ],
      "text/plain": [
       "<IPython.core.display.HTML object>"
      ]
     },
     "metadata": {},
     "output_type": "display_data"
    }
   ],
   "source": [
    "from IPython.core.display import display, HTML\n",
    "display(HTML(result))"
   ]
  },
  {
   "cell_type": "code",
   "execution_count": null,
   "id": "baff83f8",
   "metadata": {},
   "outputs": [],
   "source": []
  }
 ],
 "metadata": {
  "kernelspec": {
   "display_name": "Python 3 (ipykernel)",
   "language": "python",
   "name": "python3"
  },
  "language_info": {
   "codemirror_mode": {
    "name": "ipython",
    "version": 3
   },
   "file_extension": ".py",
   "mimetype": "text/x-python",
   "name": "python",
   "nbconvert_exporter": "python",
   "pygments_lexer": "ipython3",
   "version": "3.11.5"
  }
 },
 "nbformat": 4,
 "nbformat_minor": 5
}
